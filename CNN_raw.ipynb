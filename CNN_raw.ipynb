{
 "cells": [
  {
   "cell_type": "code",
   "execution_count": 1,
   "id": "cd505f0c",
   "metadata": {},
   "outputs": [],
   "source": [
    "import cv2\n",
    "import numpy as np\n",
    "import matplotlib.pyplot as plt\n",
    "import os\n",
    "from sklearn.model_selection import train_test_split\n",
    "from sklearn.preprocessing import LabelEncoder\n",
    "from tensorflow.keras.utils import to_categorical\n",
    "from tensorflow.keras.models import Sequential\n",
    "from tensorflow.keras.layers import Conv2D, MaxPooling2D, Flatten, Dense, Dropout"
   ]
  },
  {
   "cell_type": "code",
   "execution_count": 2,
   "id": "c6727579",
   "metadata": {},
   "outputs": [],
   "source": [
    "spectrogram_dir = \"generes_spectrograms\" \n",
    "categories = os.listdir(spectrogram_dir)"
   ]
  },
  {
   "cell_type": "code",
   "execution_count": 3,
   "id": "323cca60",
   "metadata": {},
   "outputs": [],
   "source": [
    "data = []\n",
    "labels = []"
   ]
  },
  {
   "cell_type": "code",
   "execution_count": 4,
   "id": "96e463a9",
   "metadata": {},
   "outputs": [],
   "source": [
    "for category in categories:\n",
    "    category_path = os.path.join(spectrogram_dir, category)\n",
    "    for file in os.listdir(category_path):\n",
    "        file_path = os.path.join(category_path, file)\n",
    "        image = cv2.imread(file_path, cv2.IMREAD_GRAYSCALE)\n",
    "        image = cv2.resize(image, (128, 128))\n",
    "        image = image / 255.0\n",
    "        data.append(image)\n",
    "        labels.append(category)"
   ]
  },
  {
   "cell_type": "code",
   "execution_count": 5,
   "id": "e4ff7755",
   "metadata": {},
   "outputs": [],
   "source": [
    "data = np.array(data).reshape(-1, 128, 128, 1)\n",
    "labels = np.array(labels)"
   ]
  },
  {
   "cell_type": "code",
   "execution_count": 6,
   "id": "7b92d708",
   "metadata": {},
   "outputs": [],
   "source": [
    "label_encoder = LabelEncoder()\n",
    "labels_encoded = label_encoder.fit_transform(labels)\n",
    "labels_onehot = to_categorical(labels_encoded)"
   ]
  },
  {
   "cell_type": "code",
   "execution_count": 7,
   "id": "e987f216",
   "metadata": {},
   "outputs": [],
   "source": [
    "X_train, X_test, y_train, y_test = train_test_split(data, labels_onehot, test_size=0.2, random_state=42)"
   ]
  },
  {
   "cell_type": "code",
   "execution_count": 8,
   "id": "14322145",
   "metadata": {},
   "outputs": [],
   "source": [
    "model = Sequential([\n",
    "    Conv2D(32, (3, 3), activation='relu', input_shape=(128, 128, 1)),\n",
    "    MaxPooling2D((2, 2)),\n",
    "    Dropout(0.25),\n",
    "    Conv2D(64, (3, 3), activation='relu'),\n",
    "    MaxPooling2D((2, 2)),\n",
    "    Dropout(0.25),\n",
    "    Flatten(),\n",
    "    Dense(128, activation='relu'),\n",
    "    Dropout(0.5),\n",
    "    Dense(len(categories), activation='softmax')\n",
    "])"
   ]
  },
  {
   "cell_type": "code",
   "execution_count": 9,
   "id": "e8ff432c",
   "metadata": {},
   "outputs": [],
   "source": [
    "model.compile(optimizer='adam', loss='categorical_crossentropy', metrics=['accuracy'])"
   ]
  },
  {
   "cell_type": "code",
   "execution_count": 10,
   "id": "9fb2225a",
   "metadata": {},
   "outputs": [
    {
     "name": "stdout",
     "output_type": "stream",
     "text": [
      "Epoch 1/50\n",
      "25/25 [==============================] - 63s 1s/step - loss: 2.8220 - accuracy: 0.1139 - val_loss: 2.2995 - val_accuracy: 0.1150\n",
      "Epoch 2/50\n",
      "25/25 [==============================] - 24s 936ms/step - loss: 2.2972 - accuracy: 0.1189 - val_loss: 2.2850 - val_accuracy: 0.0600\n",
      "Epoch 3/50\n",
      "25/25 [==============================] - 22s 891ms/step - loss: 2.2152 - accuracy: 0.1402 - val_loss: 2.2166 - val_accuracy: 0.1250\n",
      "Epoch 4/50\n",
      "25/25 [==============================] - 22s 895ms/step - loss: 2.1733 - accuracy: 0.1915 - val_loss: 2.1714 - val_accuracy: 0.1650\n",
      "Epoch 5/50\n",
      "25/25 [==============================] - 21s 855ms/step - loss: 2.1348 - accuracy: 0.1990 - val_loss: 2.1773 - val_accuracy: 0.1550\n",
      "Epoch 6/50\n",
      "25/25 [==============================] - 21s 858ms/step - loss: 2.0918 - accuracy: 0.2453 - val_loss: 2.0681 - val_accuracy: 0.2150\n",
      "Epoch 7/50\n",
      "25/25 [==============================] - 22s 897ms/step - loss: 2.0421 - accuracy: 0.2478 - val_loss: 2.0601 - val_accuracy: 0.2600\n",
      "Epoch 8/50\n",
      "25/25 [==============================] - 21s 863ms/step - loss: 1.9989 - accuracy: 0.2904 - val_loss: 2.0036 - val_accuracy: 0.3150\n",
      "Epoch 9/50\n",
      "25/25 [==============================] - 21s 857ms/step - loss: 1.9097 - accuracy: 0.3116 - val_loss: 1.9270 - val_accuracy: 0.2900\n",
      "Epoch 10/50\n",
      "25/25 [==============================] - 21s 850ms/step - loss: 1.8589 - accuracy: 0.3454 - val_loss: 1.9052 - val_accuracy: 0.3450\n",
      "Epoch 11/50\n",
      "25/25 [==============================] - 22s 876ms/step - loss: 1.7784 - accuracy: 0.4030 - val_loss: 1.7685 - val_accuracy: 0.4150\n",
      "Epoch 12/50\n",
      "25/25 [==============================] - 22s 876ms/step - loss: 1.6406 - accuracy: 0.4481 - val_loss: 1.7605 - val_accuracy: 0.3650\n",
      "Epoch 13/50\n",
      "25/25 [==============================] - 22s 866ms/step - loss: 1.6271 - accuracy: 0.4193 - val_loss: 1.6021 - val_accuracy: 0.5000\n",
      "Epoch 14/50\n",
      "25/25 [==============================] - 22s 876ms/step - loss: 1.4559 - accuracy: 0.4869 - val_loss: 1.5595 - val_accuracy: 0.4950\n",
      "Epoch 15/50\n",
      "25/25 [==============================] - 21s 850ms/step - loss: 1.3694 - accuracy: 0.5081 - val_loss: 1.6334 - val_accuracy: 0.4700\n",
      "Epoch 16/50\n",
      "25/25 [==============================] - 21s 842ms/step - loss: 1.3382 - accuracy: 0.5419 - val_loss: 1.3799 - val_accuracy: 0.5650\n",
      "Epoch 17/50\n",
      "25/25 [==============================] - 21s 864ms/step - loss: 1.2749 - accuracy: 0.5594 - val_loss: 1.4604 - val_accuracy: 0.4950\n",
      "Epoch 18/50\n",
      "25/25 [==============================] - 22s 882ms/step - loss: 1.1880 - accuracy: 0.6020 - val_loss: 1.2976 - val_accuracy: 0.6000\n",
      "Epoch 19/50\n",
      "25/25 [==============================] - 21s 840ms/step - loss: 1.0711 - accuracy: 0.6345 - val_loss: 1.2771 - val_accuracy: 0.5800\n",
      "Epoch 20/50\n",
      "25/25 [==============================] - 23s 906ms/step - loss: 0.9941 - accuracy: 0.6671 - val_loss: 1.3974 - val_accuracy: 0.5300\n",
      "Epoch 21/50\n",
      "25/25 [==============================] - 20s 798ms/step - loss: 0.9593 - accuracy: 0.6583 - val_loss: 1.3133 - val_accuracy: 0.5700\n",
      "Epoch 22/50\n",
      "25/25 [==============================] - 20s 793ms/step - loss: 0.9012 - accuracy: 0.6921 - val_loss: 1.2034 - val_accuracy: 0.5950\n",
      "Epoch 23/50\n",
      "25/25 [==============================] - 20s 801ms/step - loss: 0.8235 - accuracy: 0.7222 - val_loss: 1.2681 - val_accuracy: 0.5800\n",
      "Epoch 24/50\n",
      "25/25 [==============================] - 20s 790ms/step - loss: 0.7894 - accuracy: 0.7284 - val_loss: 1.2889 - val_accuracy: 0.5850\n",
      "Epoch 25/50\n",
      "25/25 [==============================] - 20s 812ms/step - loss: 0.6464 - accuracy: 0.7760 - val_loss: 1.2299 - val_accuracy: 0.5950\n",
      "Epoch 26/50\n",
      "25/25 [==============================] - 19s 781ms/step - loss: 0.6442 - accuracy: 0.7797 - val_loss: 1.2258 - val_accuracy: 0.6250\n",
      "Epoch 27/50\n",
      "25/25 [==============================] - 20s 811ms/step - loss: 0.5704 - accuracy: 0.8160 - val_loss: 1.4420 - val_accuracy: 0.5900\n",
      "Epoch 28/50\n",
      "25/25 [==============================] - 20s 782ms/step - loss: 0.5700 - accuracy: 0.8060 - val_loss: 1.4357 - val_accuracy: 0.5950\n",
      "Epoch 29/50\n",
      "25/25 [==============================] - 20s 798ms/step - loss: 0.4636 - accuracy: 0.8385 - val_loss: 1.2913 - val_accuracy: 0.6100\n",
      "Epoch 30/50\n",
      "25/25 [==============================] - 20s 820ms/step - loss: 0.3748 - accuracy: 0.8861 - val_loss: 1.2854 - val_accuracy: 0.6100\n",
      "Epoch 31/50\n",
      "25/25 [==============================] - 20s 785ms/step - loss: 0.4172 - accuracy: 0.8748 - val_loss: 1.3004 - val_accuracy: 0.5850\n",
      "Epoch 32/50\n",
      "25/25 [==============================] - 20s 791ms/step - loss: 0.3447 - accuracy: 0.9011 - val_loss: 1.2989 - val_accuracy: 0.6100\n",
      "Epoch 33/50\n",
      "25/25 [==============================] - 20s 807ms/step - loss: 0.3137 - accuracy: 0.8986 - val_loss: 1.2559 - val_accuracy: 0.6000\n",
      "Epoch 34/50\n",
      "25/25 [==============================] - 20s 796ms/step - loss: 0.2847 - accuracy: 0.9262 - val_loss: 1.2838 - val_accuracy: 0.6100\n",
      "Epoch 35/50\n",
      "25/25 [==============================] - 20s 799ms/step - loss: 0.2485 - accuracy: 0.9299 - val_loss: 1.4105 - val_accuracy: 0.5950\n",
      "Epoch 36/50\n",
      "25/25 [==============================] - 19s 780ms/step - loss: 0.2410 - accuracy: 0.9387 - val_loss: 1.4656 - val_accuracy: 0.5650\n",
      "Epoch 37/50\n",
      "25/25 [==============================] - 20s 801ms/step - loss: 0.2284 - accuracy: 0.9337 - val_loss: 1.4710 - val_accuracy: 0.5850\n",
      "Epoch 38/50\n",
      "25/25 [==============================] - 20s 818ms/step - loss: 0.2292 - accuracy: 0.9337 - val_loss: 1.4167 - val_accuracy: 0.6050\n",
      "Epoch 39/50\n",
      "25/25 [==============================] - 20s 792ms/step - loss: 0.1878 - accuracy: 0.9487 - val_loss: 1.5156 - val_accuracy: 0.5800\n",
      "Epoch 40/50\n",
      "25/25 [==============================] - 20s 786ms/step - loss: 0.2136 - accuracy: 0.9387 - val_loss: 1.4694 - val_accuracy: 0.5900\n",
      "Epoch 41/50\n",
      "25/25 [==============================] - 20s 784ms/step - loss: 0.1584 - accuracy: 0.9599 - val_loss: 1.6025 - val_accuracy: 0.5750\n",
      "Epoch 42/50\n",
      "25/25 [==============================] - 20s 793ms/step - loss: 0.1678 - accuracy: 0.9562 - val_loss: 1.4794 - val_accuracy: 0.5950\n",
      "Epoch 43/50\n",
      "25/25 [==============================] - 20s 810ms/step - loss: 0.1599 - accuracy: 0.9537 - val_loss: 1.6189 - val_accuracy: 0.5850\n",
      "Epoch 44/50\n",
      "25/25 [==============================] - 20s 810ms/step - loss: 0.1758 - accuracy: 0.9499 - val_loss: 1.5312 - val_accuracy: 0.6200\n",
      "Epoch 45/50\n",
      "25/25 [==============================] - 20s 798ms/step - loss: 0.1462 - accuracy: 0.9537 - val_loss: 1.5640 - val_accuracy: 0.5900\n",
      "Epoch 46/50\n",
      "25/25 [==============================] - 20s 799ms/step - loss: 0.1460 - accuracy: 0.9662 - val_loss: 1.5762 - val_accuracy: 0.6000\n",
      "Epoch 47/50\n",
      "25/25 [==============================] - 20s 786ms/step - loss: 0.1623 - accuracy: 0.9437 - val_loss: 1.6264 - val_accuracy: 0.5700\n",
      "Epoch 48/50\n",
      "25/25 [==============================] - 20s 798ms/step - loss: 0.1407 - accuracy: 0.9625 - val_loss: 1.7502 - val_accuracy: 0.5900\n",
      "Epoch 49/50\n",
      "25/25 [==============================] - 18s 711ms/step - loss: 0.1293 - accuracy: 0.9599 - val_loss: 1.5786 - val_accuracy: 0.6050\n",
      "Epoch 50/50\n",
      "25/25 [==============================] - 11s 436ms/step - loss: 0.1238 - accuracy: 0.9650 - val_loss: 1.7861 - val_accuracy: 0.5650\n"
     ]
    }
   ],
   "source": [
    "model_fit = model.fit(X_train, y_train,validation_data=(X_test,y_test),epochs=50, batch_size=32)"
   ]
  },
  {
   "cell_type": "code",
   "execution_count": 11,
   "id": "e8289fe8",
   "metadata": {},
   "outputs": [],
   "source": [
    "model.save(\"cnn_raw_model.h5\")"
   ]
  },
  {
   "cell_type": "code",
   "execution_count": 12,
   "id": "25e15fb2",
   "metadata": {},
   "outputs": [
    {
     "name": "stdout",
     "output_type": "stream",
     "text": [
      "4/4 [==============================] - 0s 85ms/step - loss: 1.7861 - accuracy: 0.5650\n",
      "Test Loss: 1.7861\n",
      "Test Accuracy: 0.5650\n"
     ]
    }
   ],
   "source": [
    "test_loss, test_accuracy = model.evaluate(X_test, y_test, batch_size=64)\n",
    "print(f\"Test Loss: {test_loss:.4f}\")\n",
    "print(f\"Test Accuracy: {test_accuracy:.4f}\")"
   ]
  },
  {
   "cell_type": "code",
   "execution_count": 13,
   "id": "406aa09c",
   "metadata": {},
   "outputs": [
    {
     "data": {
      "image/png": "[encoded data removed]",
      "text/plain": [
       "<Figure size 640x480 with 1 Axes>"
      ]
     },
     "metadata": {},
     "output_type": "display_data"
    }
   ],
   "source": [
    "plt.plot(model_fit.history['accuracy'], label='Train Accuracy')\n",
    "plt.plot(model_fit.history['val_accuracy'], label='Validation Accuracy')\n",
    "plt.xlabel('Epochs')\n",
    "plt.ylabel('Accuracy')\n",
    "plt.legend()\n",
    "plt.show()"
   ]
  },
  {
   "cell_type": "code",
   "execution_count": 14,
   "id": "4c57b256",
   "metadata": {},
   "outputs": [
    {
     "data": {
      "image/png": "[encoded data removed]",
      "text/plain": [
       "<Figure size 640x480 with 1 Axes>"
      ]
     },
     "metadata": {},
     "output_type": "display_data"
    }
   ],
   "source": [
    "plt.plot(model_fit.history['loss'], label='Train Loss')\n",
    "plt.plot(model_fit.history['val_loss'], label='Validation Loss')\n",
    "plt.xlabel('Epoch')\n",
    "plt.ylabel('Loss')\n",
    "plt.legend()\n",
    "plt.show()"
   ]
  },
  {
   "cell_type": "code",
   "execution_count": 2,
   "id": "cd5f1758",
   "metadata": {},
   "outputs": [],
   "source": [
    "import librosa\n",
    "import numpy as np\n",
    "import cv2\n",
    "from tensorflow.keras.models import load_model"
   ]
  },
  {
   "cell_type": "code",
   "execution_count": 15,
   "id": "7e5451d3",
   "metadata": {},
   "outputs": [],
   "source": [
    "cnn_model = load_model(\"cnn_raw_model.h5\") "
   ]
  },
  {
   "cell_type": "code",
   "execution_count": 16,
   "id": "d23a562f",
   "metadata": {},
   "outputs": [
    {
     "name": "stdout",
     "output_type": "stream",
     "text": [
      "Model: \"sequential_1\"\n",
      "_________________________________________________________________\n",
      " Layer (type)                Output Shape              Param #   \n",
      "=================================================================\n",
      " conv2d_2 (Conv2D)           (None, 126, 126, 32)      320       \n",
      "                                                                 \n",
      " max_pooling2d_2 (MaxPooling  (None, 63, 63, 32)       0         \n",
      " 2D)                                                             \n",
      "                                                                 \n",
      " dropout_3 (Dropout)         (None, 63, 63, 32)        0         \n",
      "                                                                 \n",
      " conv2d_3 (Conv2D)           (None, 61, 61, 64)        18496     \n",
      "                                                                 \n",
      " max_pooling2d_3 (MaxPooling  (None, 30, 30, 64)       0         \n",
      " 2D)                                                             \n",
      "                                                                 \n",
      " dropout_4 (Dropout)         (None, 30, 30, 64)        0         \n",
      "                                                                 \n",
      " flatten_1 (Flatten)         (None, 57600)             0         \n",
      "                                                                 \n",
      " dense_2 (Dense)             (None, 128)               7372928   \n",
      "                                                                 \n",
      " dropout_5 (Dropout)         (None, 128)               0         \n",
      "                                                                 \n",
      " dense_3 (Dense)             (None, 10)                1290      \n",
      "                                                                 \n",
      "=================================================================\n",
      "Total params: 7,393,034\n",
      "Trainable params: 7,393,034\n",
      "Non-trainable params: 0\n",
      "_________________________________________________________________\n"
     ]
    }
   ],
   "source": [
    "cnn_model.summary()"
   ]
  },
  {
   "cell_type": "code",
   "execution_count": 18,
   "id": "27ca0d36",
   "metadata": {},
   "outputs": [
    {
     "name": "stdout",
     "output_type": "stream",
     "text": [
      "7/7 [==============================] - 1s 64ms/step - loss: 1.7613 - accuracy: 0.5900\n",
      "Metrics: [1.761253833770752, 0.5899999737739563]\n"
     ]
    }
   ],
   "source": [
    "metrics = cnn_model.evaluate(X_test, y_test)\n",
    "print(\"Metrics:\", metrics)"
   ]
  },
  {
   "cell_type": "code",
   "execution_count": 56,
   "id": "1d0635cb",
   "metadata": {},
   "outputs": [
    {
     "name": "stdout",
     "output_type": "stream",
     "text": [
      "1/1 [==============================] - 0s 57ms/step\n",
      "Predicted Category: disco\n"
     ]
    }
   ],
   "source": [
    "import librosa\n",
    "import numpy as np\n",
    "import cv2\n",
    "from tensorflow.keras.models import load_model\n",
    "\n",
    "cnn_model = load_model(\"cnn_raw_model.h5\")\n",
    "categories = [\"blues\", \"classical\", \"country\", \"disco\", \"hiphop\", \"jazz\", \"metal\", \"pop\", \"reggae\", \"rock\"]\n",
    "\n",
    "def into_spectrogram(file_path, img_size=(128, 128)):\n",
    "    try:\n",
    "        y, sr = librosa.load(file_path, sr=22050, duration=30)\n",
    "\n",
    "        mel_spec = librosa.feature.melspectrogram(y=y, sr=sr, n_mels=128, fmax=8000)\n",
    "        mel_spec_db = librosa.power_to_db(mel_spec, ref=np.max) \n",
    "        \n",
    "        mel_spec_normalized = mel_spec_db - np.min(mel_spec_db)\n",
    "        mel_spec_normalized /= np.max(mel_spec_normalized)\n",
    "\n",
    "        mel_spec_resized = cv2.resize(mel_spec_normalized, img_size)\n",
    "\n",
    "        mel_spec_input = np.expand_dims(mel_spec_resized, axis=(0, -1))\n",
    "        return mel_spec_input\n",
    "    except Exception as e:\n",
    "        print(f\"Error processing audio: {e}\")\n",
    "        return None\n",
    "\n",
    "def predict_audio_category(file_path):\n",
    "    spectrogram = preprocess_audio(file_path)\n",
    "    if spectrogram is not None:\n",
    "        prediction = cnn_model.predict(spectrogram)\n",
    "        predicted_label = np.argmax(prediction, axis=1)\n",
    "        return categories[predicted_label[0]]\n",
    "    else:\n",
    "        return \"Error processing audio file\"\n",
    "\n",
    "file_path = \"C:\\\\Users\\\\srira\\\\OneDrive\\\\Desktop\\\\Fall 24\\\\Feature Engineering\\\\Project\\\\generes_raw\\\\disco\\\\disco.00058.wav\"  # Replace with your audio file path\n",
    "predicted_category = predict_audio_category(file_path)\n",
    "print(f\"Predicted Category: {predicted_category}\")\n"
   ]
  },
  {
   "cell_type": "code",
   "execution_count": null,
   "id": "c6c1f2de",
   "metadata": {},
   "outputs": [],
   "source": []
  },
  {
   "cell_type": "code",
   "execution_count": null,
   "id": "9ef30bf6",
   "metadata": {},
   "outputs": [],
   "source": []
  }
 ],
 "metadata": {
  "kernelspec": {
   "display_name": "Python 3 (ipykernel)",
   "language": "python",
   "name": "python3"
  },
  "language_info": {
   "codemirror_mode": {
    "name": "ipython",
    "version": 3
   },
   "file_extension": ".py",
   "mimetype": "text/x-python",
   "name": "python",
   "nbconvert_exporter": "python",
   "pygments_lexer": "ipython3",
   "version": "3.11.4"
  }
 },
 "nbformat": 4,
 "nbformat_minor": 5
}
