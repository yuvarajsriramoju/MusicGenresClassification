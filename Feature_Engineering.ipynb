{
 "cells": [
  {
   "cell_type": "code",
   "execution_count": 3,
   "id": "2e1f611d",
   "metadata": {},
   "outputs": [],
   "source": [
    "import librosa\n",
    "import librosa.display\n",
    "import cv2\n",
    "import numpy as np\n",
    "import matplotlib.pyplot as plt\n",
    "import os\n",
    "from sklearn.model_selection import train_test_split\n",
    "from sklearn.preprocessing import LabelEncoder\n",
    "from tensorflow.keras.utils import to_categorical\n",
    "from tensorflow.keras.models import Sequential\n",
    "from tensorflow.keras.layers import Conv2D, MaxPooling2D, Flatten, Dense, Dropout"
   ]
  },
  {
   "cell_type": "code",
   "execution_count": 4,
   "id": "0f9c7c35",
   "metadata": {},
   "outputs": [],
   "source": [
    "def feature_engineering(image):\n",
    "    import cv2\n",
    "    import numpy as np\n",
    "    #log-mel\n",
    "    log_mel = np.log1p(image)\n",
    "\n",
    "    # Delta and Delta-Delta Features\n",
    "    delta = librosa.feature.delta(image)\n",
    "    delta_delta = librosa.feature.delta(image, order=2)\n",
    "\n",
    "    # Smoothing\n",
    "    smoothed_img = cv2.GaussianBlur(image, (5, 5), 0)\n",
    "\n",
    "    # Edge Detection\n",
    "    edges = cv2.Canny((image * 255).astype(np.uint8), 100, 200)\n",
    "\n",
    "    combined_features = np.stack([log_mel, delta, smoothed_img], axis=-1)\n",
    "    return combined_features"
   ]
  },
  {
   "cell_type": "code",
   "execution_count": null,
   "id": "09c270b3",
   "metadata": {},
   "outputs": [],
   "source": []
  },
  {
   "cell_type": "code",
   "execution_count": null,
   "id": "df723c34",
   "metadata": {},
   "outputs": [],
   "source": []
  },
  {
   "cell_type": "code",
   "execution_count": null,
   "id": "32eea411",
   "metadata": {},
   "outputs": [],
   "source": []
  },
  {
   "cell_type": "code",
   "execution_count": null,
   "id": "e37b3de3",
   "metadata": {},
   "outputs": [],
   "source": []
  }
 ],
 "metadata": {
  "kernelspec": {
   "display_name": "Python 3 (ipykernel)",
   "language": "python",
   "name": "python3"
  },
  "language_info": {
   "codemirror_mode": {
    "name": "ipython",
    "version": 3
   },
   "file_extension": ".py",
   "mimetype": "text/x-python",
   "name": "python",
   "nbconvert_exporter": "python",
   "pygments_lexer": "ipython3",
   "version": "3.11.4"
  }
 },
 "nbformat": 4,
 "nbformat_minor": 5
}
