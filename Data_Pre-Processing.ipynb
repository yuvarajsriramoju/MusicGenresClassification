{
 "cells": [
  {
   "cell_type": "code",
   "execution_count": 1,
   "id": "1d5eb352",
   "metadata": {},
   "outputs": [],
   "source": [
    "import librosa\n",
    "import librosa.display\n",
    "import numpy as np\n",
    "import os\n",
    "import pandas as pd\n",
    "import matplotlib.pyplot as plt\n",
    "import cv2"
   ]
  },
  {
   "cell_type": "code",
   "execution_count": 2,
   "id": "eb802e0d",
   "metadata": {},
   "outputs": [],
   "source": [
    "data_dir = \"generes_raw\"  \n",
    "output_dir = \"generes_spectrograms\" "
   ]
  },
  {
   "cell_type": "code",
   "execution_count": 3,
   "id": "6c115e7d",
   "metadata": {},
   "outputs": [],
   "source": [
    "os.makedirs(output_dir, exist_ok=True)"
   ]
  },
  {
   "cell_type": "code",
   "execution_count": 4,
   "id": "b72b4f88",
   "metadata": {},
   "outputs": [],
   "source": [
    "def process_audio(file_path, category, output_dir, sr=22050):\n",
    "    try:\n",
    "        y, sr = librosa.load(file_path, sr=sr, duration=30) \n",
    "\n",
    "        #mel spectrogram\n",
    "        mel_spec = librosa.feature.melspectrogram(y=y, sr=sr, n_mels=128, fmax=8000)\n",
    "        mel_spec_db = librosa.power_to_db(mel_spec, ref=np.max)\n",
    "\n",
    "        spectrogram_dir = os.path.join(output_dir, category)\n",
    "        os.makedirs(spectrogram_dir, exist_ok=True)\n",
    "        output_image_path = os.path.join(spectrogram_dir, f\"{os.path.splitext(os.path.basename(file_path))[0]}.png\")\n",
    "        plt.figure(figsize=(4, 2))\n",
    "        librosa.display.specshow(mel_spec_db, sr=sr, x_axis='time', y_axis='mel', fmax=8000, cmap='magma')\n",
    "        plt.axis('off')\n",
    "        plt.savefig(output_image_path, bbox_inches='tight', pad_inches=0)\n",
    "        plt.close()\n",
    "\n",
    "        # Frequency Domain Features\n",
    "        spectral_centroid = librosa.feature.spectral_centroid(y=y, sr=sr).mean()\n",
    "        spectral_bandwidth = librosa.feature.spectral_bandwidth(y=y, sr=sr).mean()\n",
    "        spectral_rolloff = librosa.feature.spectral_rolloff(y=y, sr=sr, roll_percent=0.85).mean()\n",
    "\n",
    "        # Time Domain Features\n",
    "        zero_crossing_rate = librosa.feature.zero_crossing_rate(y).mean()\n",
    "        rmse = librosa.feature.rms(y=y).mean()\n",
    "        temporal_entropy = -np.sum((y**2) * np.log2(y**2 + 1e-10)) \n",
    "        \n",
    "        return [\n",
    "            os.path.basename(file_path), category,\n",
    "            spectral_centroid, spectral_bandwidth, spectral_rolloff,\n",
    "            zero_crossing_rate, rmse, temporal_entropy\n",
    "        ]\n",
    "    except Exception as e:\n",
    "        print(f\"Error processing {file_path}: {e}\")\n",
    "        return [category, os.path.basename(file_path), 0, 0, 0, 0, 0, 0]"
   ]
  },
  {
   "cell_type": "code",
   "execution_count": 5,
   "id": "9991fb4a",
   "metadata": {},
   "outputs": [],
   "source": [
    "features_list = []"
   ]
  },
  {
   "cell_type": "code",
   "execution_count": 6,
   "id": "4c8e9d01",
   "metadata": {},
   "outputs": [],
   "source": [
    "for category in os.listdir(data_dir):\n",
    "    category_path = os.path.join(data_dir, category)\n",
    "    if os.path.isdir(category_path):  \n",
    "        for file in os.listdir(category_path):\n",
    "            if file.endswith(\".wav\"):\n",
    "                file_path = os.path.join(category_path, file)\n",
    "                features = process_audio(file_path, category, output_dir)\n",
    "                features_list.append(features)"
   ]
  },
  {
   "cell_type": "code",
   "execution_count": 7,
   "id": "53730ad9",
   "metadata": {},
   "outputs": [],
   "source": [
    "columns = [\n",
    "    \"Audio File\", \"Category\",\n",
    "    \"Spectral Centroid\", \"Spectral Bandwidth\", \"Spectral Roll-Off\",\n",
    "    \"Zero Crossing Rate\", \"RMS Energy\", \"Temporal Entropy\"\n",
    "]"
   ]
  },
  {
   "cell_type": "code",
   "execution_count": 8,
   "id": "1984f4aa",
   "metadata": {},
   "outputs": [
    {
     "name": "stdout",
     "output_type": "stream",
     "text": [
      "Spectrograms saved and features saved to 'extracted_audio_features.csv'\n"
     ]
    }
   ],
   "source": [
    "features = pd.DataFrame(features_list, columns=columns)\n",
    "features.to_csv(\"extracted_audio_features.csv\", index=False)\n",
    "print(\"Spectrograms saved and features saved to 'extracted_audio_features.csv'\")"
   ]
  },
  {
   "cell_type": "code",
   "execution_count": null,
   "id": "ab1e70d9",
   "metadata": {},
   "outputs": [],
   "source": []
  }
 ],
 "metadata": {
  "kernelspec": {
   "display_name": "Python 3 (ipykernel)",
   "language": "python",
   "name": "python3"
  },
  "language_info": {
   "codemirror_mode": {
    "name": "ipython",
    "version": 3
   },
   "file_extension": ".py",
   "mimetype": "text/x-python",
   "name": "python",
   "nbconvert_exporter": "python",
   "pygments_lexer": "ipython3",
   "version": "3.11.4"
  }
 },
 "nbformat": 4,
 "nbformat_minor": 5
}
